{
 "cells": [
  {
   "cell_type": "markdown",
   "metadata": {},
   "source": [
    "asa"
   ]
  },
  {
   "cell_type": "markdown",
   "metadata": {},
   "source": [
    "## Tabla de datos"
   ]
  },
  {
   "cell_type": "markdown",
   "metadata": {},
   "source": [
    "<table>\n",
    "  <tr>\n",
    "    <td>Pumas</td>\n",
    "    <td>América</td>\n",
    "    <td>Chivas</td>\n",
    "    <td>Pumas</td>\n",
    "    <td>Chivas</td>\n",
    "  </tr>\n",
    "  <tr>\n",
    "    <td>Chivas</td>\n",
    "    <td>América</td>\n",
    "    <td>Toluca</td>\n",
    "    <td>Toluca</td>\n",
    "    <td>Pumas</td>\n",
    "  </tr>\n",
    "  <tr>\n",
    "    <td>Santos</td>\n",
    "    <td>Necaxa</td>\n",
    "    <td>América</td>\n",
    "    <td>América</td>\n",
    "    <td>América</td>\n",
    "  </tr>\n",
    "  <tr>\n",
    "    <td>Pumas</td>\n",
    "    <td>Santos</td>\n",
    "    <td>Pumas</td>\n",
    "    <td>Pumas</td>\n",
    "    <td>Pumas</td>\n",
    "  </tr>\n",
    "  <tr>\n",
    "    <td>América</td>\n",
    "    <td>Chivas</td>\n",
    "    <td>América</td>\n",
    "    <td>Pumas</td>\n",
    "    <td>Necaxa</td>\n",
    "  </tr>\n",
    "  <tr>\n",
    "    <td>Toluca</td>\n",
    "    <td>Chivas</td>\n",
    "    <td>América</td>\n",
    "    <td>Toluca</td>\n",
    "    <td>Santos</td>\n",
    "  </tr>\n",
    "</table>"
   ]
  },
  {
   "cell_type": "markdown",
   "metadata": {},
   "source": [
    "## Tabla de frecuencias"
   ]
  },
  {
   "cell_type": "markdown",
   "metadata": {},
   "source": [
    "<table>\n",
    "  <tr>\n",
    "    <th>EQUIPO</th>\n",
    "    <th>F.A</th>\n",
    "    <th>F.A.A</th>\n",
    "    <th>F.R</th>\n",
    "    <th>F.R.A</th>\n",
    "  </tr>\n",
    "  <tr>\n",
    "    <td>NECAXA</td>\n",
    "    <td>2</td>\n",
    "    <td>2</td>\n",
    "    <td>0.066666667</td>\n",
    "    <td>0.066666667</td>\n",
    "  </tr>\n",
    "  <tr>\n",
    "    <td>SANTOS</td>\n",
    "    <td>3</td>\n",
    "    <td>5</td>\n",
    "    <td>0.1</td>\n",
    "    <td>0.166666667</td>\n",
    "  </tr>\n",
    "  <tr>\n",
    "    <td>TOLUCA</td>\n",
    "    <td>4</td>\n",
    "    <td>9</td>\n",
    "    <td>0.133333333</td>\n",
    "    <td>0.3</td>\n",
    "  </tr>\n",
    "  <tr>\n",
    "    <td>CHIVAS</td>\n",
    "    <td>5</td>\n",
    "    <td>14</td>\n",
    "    <td>0.166666667</td>\n",
    "    <td>0.466666667</td>\n",
    "  </tr>\n",
    "  <tr>\n",
    "    <td>AMERICA</td>\n",
    "    <td>8</td>\n",
    "    <td>22</td>\n",
    "    <td>0.266666667</td>\n",
    "    <td>0.733333333</td>\n",
    "  </tr>\n",
    "  <tr>\n",
    "    <td>PUMAS</td>\n",
    "    <td>8</td>\n",
    "    <td>30</td>\n",
    "    <td>0.266666667</td>\n",
    "    <td>1</td>\n",
    "  </tr>\n",
    "  <tr>\n",
    "    <td>TOTAL</td>\n",
    "    <td>30</td>\n",
    "    <td></td>\n",
    "    <td></td>\n",
    "    <td></td>\n",
    "  </tr>\n",
    "</table>"
   ]
  },
  {
   "cell_type": "markdown",
   "metadata": {},
   "source": [
    "leilani"
   ]
  },
  {
   "cell_type": "markdown",
   "metadata": {},
   "source": []
  },
  {
   "cell_type": "markdown",
   "metadata": {},
   "source": [
    "tavo"
   ]
  },
  {
   "cell_type": "markdown",
   "metadata": {},
   "source": []
  }
 ],
 "metadata": {
  "language_info": {
   "name": "python"
  }
 },
 "nbformat": 4,
 "nbformat_minor": 2
}
