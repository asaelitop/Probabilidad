{
 "cells": [
  {
   "cell_type": "markdown",
   "metadata": {},
   "source": [
    "Asa"
   ]
  },
  {
   "cell_type": "markdown",
   "metadata": {},
   "source": [
    "<table>\n",
    "  <tr>\n",
    "    <td>Pumas</td>\n",
    "    <td>América</td>\n",
    "    <td>Chivas</td>\n",
    "    <td>Pumas</td>\n",
    "    <td>Chivas</td>\n",
    "  </tr>\n",
    "  <tr>\n",
    "    <td>Chivas</td>\n",
    "    <td>América</td>\n",
    "    <td>Toluca</td>\n",
    "    <td>Toluca</td>\n",
    "    <td>Pumas</td>\n",
    "  </tr>\n",
    "  <tr>\n",
    "    <td>Santos</td>\n",
    "    <td>Necaxa</td>\n",
    "    <td>América</td>\n",
    "    <td>América</td>\n",
    "    <td>América</td>\n",
    "  </tr>\n",
    "  <tr>\n",
    "    <td>Pumas</td>\n",
    "    <td>Santos</td>\n",
    "    <td>Pumas</td>\n",
    "    <td>Pumas</td>\n",
    "    <td>Pumas</td>\n",
    "  </tr>\n",
    "  <tr>\n",
    "    <td>América</td>\n",
    "    <td>Chivas</td>\n",
    "    <td>América</td>\n",
    "    <td>Pumas</td>\n",
    "    <td>Necaxa</td>\n",
    "  </tr>\n",
    "  <tr>\n",
    "    <td>Toluca</td>\n",
    "    <td>Chivas</td>\n",
    "    <td>América</td>\n",
    "    <td>Toluca</td>\n",
    "    <td>Santos</td>\n",
    "  </tr>\n",
    "</table>"
   ]
  },
  {
   "cell_type": "markdown",
   "metadata": {},
   "source": [
    "tadeo"
   ]
  },
  {
   "cell_type": "markdown",
   "metadata": {},
   "source": []
  },
  {
   "cell_type": "markdown",
   "metadata": {},
   "source": [
    "leilani"
   ]
  }
 ],
 "metadata": {
  "kernelspec": {
   "display_name": "Python 3",
   "language": "python",
   "name": "python3"
  },
  "language_info": {
   "name": "python",
   "version": "3.12.2"
  }
 },
 "nbformat": 4,
 "nbformat_minor": 2
}
